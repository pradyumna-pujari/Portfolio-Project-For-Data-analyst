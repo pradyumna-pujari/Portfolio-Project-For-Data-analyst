{
 "cells": [
  {
   "cell_type": "code",
   "execution_count": 79,
   "metadata": {},
   "outputs": [],
   "source": [
    "import pandas as pd\n",
    "import numpy as np\n",
    "import datetime\n",
    "import matplotlib.pyplot as plt\n",
    "import seaborn as sns"
   ]
  },
  {
   "cell_type": "code",
   "execution_count": 80,
   "metadata": {},
   "outputs": [],
   "source": [
    "data=pd.read_excel(\"MS_Dhoni_ODI_record.xlsx\")"
   ]
  },
  {
   "cell_type": "code",
   "execution_count": 81,
   "metadata": {},
   "outputs": [
    {
     "data": {
      "text/html": [
       "<div>\n",
       "<style scoped>\n",
       "    .dataframe tbody tr th:only-of-type {\n",
       "        vertical-align: middle;\n",
       "    }\n",
       "\n",
       "    .dataframe tbody tr th {\n",
       "        vertical-align: top;\n",
       "    }\n",
       "\n",
       "    .dataframe thead th {\n",
       "        text-align: right;\n",
       "    }\n",
       "</style>\n",
       "<table border=\"1\" class=\"dataframe\">\n",
       "  <thead>\n",
       "    <tr style=\"text-align: right;\">\n",
       "      <th></th>\n",
       "      <th>score</th>\n",
       "      <th>runs_scored</th>\n",
       "      <th>balls_faced</th>\n",
       "      <th>strike_rate</th>\n",
       "      <th>fours</th>\n",
       "      <th>sixes</th>\n",
       "      <th>opposition</th>\n",
       "      <th>ground</th>\n",
       "      <th>date</th>\n",
       "      <th>odi_number</th>\n",
       "    </tr>\n",
       "  </thead>\n",
       "  <tbody>\n",
       "    <tr>\n",
       "      <th>0</th>\n",
       "      <td>0</td>\n",
       "      <td>0</td>\n",
       "      <td>1</td>\n",
       "      <td>0</td>\n",
       "      <td>0</td>\n",
       "      <td>0</td>\n",
       "      <td>v Bangladesh</td>\n",
       "      <td>Chattogram</td>\n",
       "      <td>2004-12-23</td>\n",
       "      <td>ODI # 2199</td>\n",
       "    </tr>\n",
       "    <tr>\n",
       "      <th>1</th>\n",
       "      <td>12</td>\n",
       "      <td>12</td>\n",
       "      <td>11</td>\n",
       "      <td>109.09</td>\n",
       "      <td>2</td>\n",
       "      <td>0</td>\n",
       "      <td>v Bangladesh</td>\n",
       "      <td>Dhaka</td>\n",
       "      <td>2004-12-26</td>\n",
       "      <td>ODI # 2201</td>\n",
       "    </tr>\n",
       "    <tr>\n",
       "      <th>2</th>\n",
       "      <td>7*</td>\n",
       "      <td>7</td>\n",
       "      <td>2</td>\n",
       "      <td>350</td>\n",
       "      <td>0</td>\n",
       "      <td>1</td>\n",
       "      <td>v Bangladesh</td>\n",
       "      <td>Dhaka</td>\n",
       "      <td>2004-12-27</td>\n",
       "      <td>ODI # 2202</td>\n",
       "    </tr>\n",
       "    <tr>\n",
       "      <th>3</th>\n",
       "      <td>3</td>\n",
       "      <td>3</td>\n",
       "      <td>7</td>\n",
       "      <td>42.85</td>\n",
       "      <td>0</td>\n",
       "      <td>0</td>\n",
       "      <td>v Pakistan</td>\n",
       "      <td>Kochi</td>\n",
       "      <td>2005-04-02</td>\n",
       "      <td>ODI # 2235</td>\n",
       "    </tr>\n",
       "    <tr>\n",
       "      <th>4</th>\n",
       "      <td>148</td>\n",
       "      <td>148</td>\n",
       "      <td>123</td>\n",
       "      <td>120.32</td>\n",
       "      <td>15</td>\n",
       "      <td>4</td>\n",
       "      <td>v Pakistan</td>\n",
       "      <td>Visakhapatnam</td>\n",
       "      <td>2005-04-05</td>\n",
       "      <td>ODI # 2236</td>\n",
       "    </tr>\n",
       "  </tbody>\n",
       "</table>\n",
       "</div>"
      ],
      "text/plain": [
       "  score runs_scored balls_faced strike_rate fours sixes    opposition  \\\n",
       "0     0           0           1           0     0     0  v Bangladesh   \n",
       "1    12          12          11      109.09     2     0  v Bangladesh   \n",
       "2    7*           7           2         350     0     1  v Bangladesh   \n",
       "3     3           3           7       42.85     0     0    v Pakistan   \n",
       "4   148         148         123      120.32    15     4    v Pakistan   \n",
       "\n",
       "          ground       date  odi_number  \n",
       "0     Chattogram 2004-12-23  ODI # 2199  \n",
       "1          Dhaka 2004-12-26  ODI # 2201  \n",
       "2          Dhaka 2004-12-27  ODI # 2202  \n",
       "3          Kochi 2005-04-02  ODI # 2235  \n",
       "4  Visakhapatnam 2005-04-05  ODI # 2236  "
      ]
     },
     "execution_count": 81,
     "metadata": {},
     "output_type": "execute_result"
    }
   ],
   "source": [
    "data.head()"
   ]
  },
  {
   "cell_type": "code",
   "execution_count": 82,
   "metadata": {},
   "outputs": [
    {
     "data": {
      "text/plain": [
       "score                  object\n",
       "runs_scored            object\n",
       "balls_faced            object\n",
       "strike_rate            object\n",
       "fours                  object\n",
       "sixes                  object\n",
       "opposition             object\n",
       "ground                 object\n",
       "date           datetime64[ns]\n",
       "odi_number             object\n",
       "dtype: object"
      ]
     },
     "execution_count": 82,
     "metadata": {},
     "output_type": "execute_result"
    }
   ],
   "source": [
    "data.dtypes"
   ]
  },
  {
   "cell_type": "code",
   "execution_count": 83,
   "metadata": {},
   "outputs": [
    {
     "data": {
      "text/plain": [
       "score          0\n",
       "runs_scored    0\n",
       "balls_faced    0\n",
       "strike_rate    0\n",
       "fours          0\n",
       "sixes          0\n",
       "opposition     0\n",
       "ground         0\n",
       "date           0\n",
       "odi_number     0\n",
       "dtype: int64"
      ]
     },
     "execution_count": 83,
     "metadata": {},
     "output_type": "execute_result"
    }
   ],
   "source": [
    "data.isnull().sum()"
   ]
  },
  {
   "cell_type": "markdown",
   "metadata": {},
   "source": [
    "#### when data is imported correctly we can now start with Data Cleaning and Preparation\n",
    "1.At first we will start by removing first 2 characters from opposition string"
   ]
  },
  {
   "cell_type": "code",
   "execution_count": 84,
   "metadata": {},
   "outputs": [],
   "source": [
    "data[\"opposition\"]=data[\"opposition\"].apply(lambda x: x[2:])\n"
   ]
  },
  {
   "cell_type": "markdown",
   "metadata": {},
   "source": [
    "##### Now we will create year column in which match was played. But before that make sure the date column should be in proper datetime format if not covert it into datetime format"
   ]
  },
  {
   "cell_type": "code",
   "execution_count": 85,
   "metadata": {},
   "outputs": [],
   "source": [
    "data[\"year\"]=data[\"date\"].dt.year.astype(int)"
   ]
  },
  {
   "cell_type": "markdown",
   "metadata": {},
   "source": [
    "##### Now we will create a column whether Dhoni was not out or out in perticuler innings"
   ]
  },
  {
   "cell_type": "code",
   "execution_count": 86,
   "metadata": {},
   "outputs": [],
   "source": [
    "data[\"score\"]=data[\"score\"].apply(str)"
   ]
  },
  {
   "cell_type": "code",
   "execution_count": 87,
   "metadata": {},
   "outputs": [],
   "source": [
    "data[\"not_out\"]=np.where(data[\"score\"].str.endswith('*'),1,0)"
   ]
  },
  {
   "cell_type": "code",
   "execution_count": null,
   "metadata": {},
   "outputs": [],
   "source": []
  },
  {
   "cell_type": "markdown",
   "metadata": {},
   "source": [
    "###### Now by seeing the data now we can remove the odi_number column because it adds no value to the analysis"
   ]
  },
  {
   "cell_type": "code",
   "execution_count": 88,
   "metadata": {},
   "outputs": [],
   "source": [
    "data.drop(columns='odi_number',inplace=True)"
   ]
  },
  {
   "cell_type": "markdown",
   "metadata": {},
   "source": [
    "###### Now we will drop all the records where Dhoni did not bat,and we will store this in new dataframe"
   ]
  },
  {
   "cell_type": "code",
   "execution_count": 89,
   "metadata": {},
   "outputs": [],
   "source": [
    "data_new=data.loc[((data[\"score\"] != 'DNB') & (data['score']!='TDNB')) ,'runs_scored':]"
   ]
  },
  {
   "cell_type": "code",
   "execution_count": 90,
   "metadata": {},
   "outputs": [
    {
     "data": {
      "text/html": [
       "<div>\n",
       "<style scoped>\n",
       "    .dataframe tbody tr th:only-of-type {\n",
       "        vertical-align: middle;\n",
       "    }\n",
       "\n",
       "    .dataframe tbody tr th {\n",
       "        vertical-align: top;\n",
       "    }\n",
       "\n",
       "    .dataframe thead th {\n",
       "        text-align: right;\n",
       "    }\n",
       "</style>\n",
       "<table border=\"1\" class=\"dataframe\">\n",
       "  <thead>\n",
       "    <tr style=\"text-align: right;\">\n",
       "      <th></th>\n",
       "      <th>runs_scored</th>\n",
       "      <th>balls_faced</th>\n",
       "      <th>strike_rate</th>\n",
       "      <th>fours</th>\n",
       "      <th>sixes</th>\n",
       "      <th>opposition</th>\n",
       "      <th>ground</th>\n",
       "      <th>date</th>\n",
       "      <th>year</th>\n",
       "      <th>not_out</th>\n",
       "    </tr>\n",
       "  </thead>\n",
       "  <tbody>\n",
       "    <tr>\n",
       "      <th>0</th>\n",
       "      <td>0</td>\n",
       "      <td>1</td>\n",
       "      <td>0</td>\n",
       "      <td>0</td>\n",
       "      <td>0</td>\n",
       "      <td>Bangladesh</td>\n",
       "      <td>Chattogram</td>\n",
       "      <td>2004-12-23</td>\n",
       "      <td>2004</td>\n",
       "      <td>0</td>\n",
       "    </tr>\n",
       "    <tr>\n",
       "      <th>1</th>\n",
       "      <td>12</td>\n",
       "      <td>11</td>\n",
       "      <td>109.09</td>\n",
       "      <td>2</td>\n",
       "      <td>0</td>\n",
       "      <td>Bangladesh</td>\n",
       "      <td>Dhaka</td>\n",
       "      <td>2004-12-26</td>\n",
       "      <td>2004</td>\n",
       "      <td>0</td>\n",
       "    </tr>\n",
       "    <tr>\n",
       "      <th>2</th>\n",
       "      <td>7</td>\n",
       "      <td>2</td>\n",
       "      <td>350</td>\n",
       "      <td>0</td>\n",
       "      <td>1</td>\n",
       "      <td>Bangladesh</td>\n",
       "      <td>Dhaka</td>\n",
       "      <td>2004-12-27</td>\n",
       "      <td>2004</td>\n",
       "      <td>1</td>\n",
       "    </tr>\n",
       "    <tr>\n",
       "      <th>3</th>\n",
       "      <td>3</td>\n",
       "      <td>7</td>\n",
       "      <td>42.85</td>\n",
       "      <td>0</td>\n",
       "      <td>0</td>\n",
       "      <td>Pakistan</td>\n",
       "      <td>Kochi</td>\n",
       "      <td>2005-04-02</td>\n",
       "      <td>2005</td>\n",
       "      <td>0</td>\n",
       "    </tr>\n",
       "    <tr>\n",
       "      <th>4</th>\n",
       "      <td>148</td>\n",
       "      <td>123</td>\n",
       "      <td>120.32</td>\n",
       "      <td>15</td>\n",
       "      <td>4</td>\n",
       "      <td>Pakistan</td>\n",
       "      <td>Visakhapatnam</td>\n",
       "      <td>2005-04-05</td>\n",
       "      <td>2005</td>\n",
       "      <td>0</td>\n",
       "    </tr>\n",
       "  </tbody>\n",
       "</table>\n",
       "</div>"
      ],
      "text/plain": [
       "  runs_scored balls_faced strike_rate fours sixes  opposition         ground  \\\n",
       "0           0           1           0     0     0  Bangladesh     Chattogram   \n",
       "1          12          11      109.09     2     0  Bangladesh          Dhaka   \n",
       "2           7           2         350     0     1  Bangladesh          Dhaka   \n",
       "3           3           7       42.85     0     0    Pakistan          Kochi   \n",
       "4         148         123      120.32    15     4    Pakistan  Visakhapatnam   \n",
       "\n",
       "        date  year  not_out  \n",
       "0 2004-12-23  2004        0  \n",
       "1 2004-12-26  2004        0  \n",
       "2 2004-12-27  2004        1  \n",
       "3 2005-04-02  2005        0  \n",
       "4 2005-04-05  2005        0  "
      ]
     },
     "execution_count": 90,
     "metadata": {},
     "output_type": "execute_result"
    }
   ],
   "source": [
    "data_new.head()"
   ]
  },
  {
   "cell_type": "markdown",
   "metadata": {},
   "source": [
    "##### Now we will fix the datatype of all the columns  present in our new dataframe"
   ]
  },
  {
   "cell_type": "code",
   "execution_count": 91,
   "metadata": {},
   "outputs": [
    {
     "data": {
      "text/plain": [
       "runs_scored            object\n",
       "balls_faced            object\n",
       "strike_rate            object\n",
       "fours                  object\n",
       "sixes                  object\n",
       "opposition             object\n",
       "ground                 object\n",
       "date           datetime64[ns]\n",
       "year                    int32\n",
       "not_out                 int32\n",
       "dtype: object"
      ]
     },
     "execution_count": 91,
     "metadata": {},
     "output_type": "execute_result"
    }
   ],
   "source": [
    "data_new.dtypes"
   ]
  },
  {
   "cell_type": "code",
   "execution_count": 92,
   "metadata": {},
   "outputs": [],
   "source": [
    "#fixing the datatype of numerical column\n",
    "data_new['runs_scored'] = data_new['runs_scored'].astype(int)\n",
    "data_new['balls_faced'] = data_new['balls_faced'].astype(int)\n",
    "data_new['strike_rate'] = data_new['strike_rate'].astype(float)\n",
    "data_new['fours']  = data_new['fours'].astype(int)\n",
    "data_new['sixes'] = data_new['sixes'].astype(int)"
   ]
  },
  {
   "cell_type": "code",
   "execution_count": 93,
   "metadata": {},
   "outputs": [
    {
     "data": {
      "text/plain": [
       "runs_scored             int32\n",
       "balls_faced             int32\n",
       "strike_rate           float64\n",
       "fours                   int32\n",
       "sixes                   int32\n",
       "opposition             object\n",
       "ground                 object\n",
       "date           datetime64[ns]\n",
       "year                    int32\n",
       "not_out                 int32\n",
       "dtype: object"
      ]
     },
     "execution_count": 93,
     "metadata": {},
     "output_type": "execute_result"
    }
   ],
   "source": [
    "data_new.dtypes"
   ]
  },
  {
   "cell_type": "code",
   "execution_count": 94,
   "metadata": {},
   "outputs": [
    {
     "data": {
      "text/html": [
       "<div>\n",
       "<style scoped>\n",
       "    .dataframe tbody tr th:only-of-type {\n",
       "        vertical-align: middle;\n",
       "    }\n",
       "\n",
       "    .dataframe tbody tr th {\n",
       "        vertical-align: top;\n",
       "    }\n",
       "\n",
       "    .dataframe thead th {\n",
       "        text-align: right;\n",
       "    }\n",
       "</style>\n",
       "<table border=\"1\" class=\"dataframe\">\n",
       "  <thead>\n",
       "    <tr style=\"text-align: right;\">\n",
       "      <th></th>\n",
       "      <th>runs_scored</th>\n",
       "      <th>balls_faced</th>\n",
       "      <th>strike_rate</th>\n",
       "      <th>fours</th>\n",
       "      <th>sixes</th>\n",
       "      <th>opposition</th>\n",
       "      <th>ground</th>\n",
       "      <th>date</th>\n",
       "      <th>year</th>\n",
       "      <th>not_out</th>\n",
       "    </tr>\n",
       "  </thead>\n",
       "  <tbody>\n",
       "    <tr>\n",
       "      <th>0</th>\n",
       "      <td>0</td>\n",
       "      <td>1</td>\n",
       "      <td>0.00</td>\n",
       "      <td>0</td>\n",
       "      <td>0</td>\n",
       "      <td>Bangladesh</td>\n",
       "      <td>Chattogram</td>\n",
       "      <td>2004-12-23</td>\n",
       "      <td>2004</td>\n",
       "      <td>0</td>\n",
       "    </tr>\n",
       "    <tr>\n",
       "      <th>1</th>\n",
       "      <td>12</td>\n",
       "      <td>11</td>\n",
       "      <td>109.09</td>\n",
       "      <td>2</td>\n",
       "      <td>0</td>\n",
       "      <td>Bangladesh</td>\n",
       "      <td>Dhaka</td>\n",
       "      <td>2004-12-26</td>\n",
       "      <td>2004</td>\n",
       "      <td>0</td>\n",
       "    </tr>\n",
       "    <tr>\n",
       "      <th>2</th>\n",
       "      <td>7</td>\n",
       "      <td>2</td>\n",
       "      <td>350.00</td>\n",
       "      <td>0</td>\n",
       "      <td>1</td>\n",
       "      <td>Bangladesh</td>\n",
       "      <td>Dhaka</td>\n",
       "      <td>2004-12-27</td>\n",
       "      <td>2004</td>\n",
       "      <td>1</td>\n",
       "    </tr>\n",
       "    <tr>\n",
       "      <th>3</th>\n",
       "      <td>3</td>\n",
       "      <td>7</td>\n",
       "      <td>42.85</td>\n",
       "      <td>0</td>\n",
       "      <td>0</td>\n",
       "      <td>Pakistan</td>\n",
       "      <td>Kochi</td>\n",
       "      <td>2005-04-02</td>\n",
       "      <td>2005</td>\n",
       "      <td>0</td>\n",
       "    </tr>\n",
       "    <tr>\n",
       "      <th>4</th>\n",
       "      <td>148</td>\n",
       "      <td>123</td>\n",
       "      <td>120.32</td>\n",
       "      <td>15</td>\n",
       "      <td>4</td>\n",
       "      <td>Pakistan</td>\n",
       "      <td>Visakhapatnam</td>\n",
       "      <td>2005-04-05</td>\n",
       "      <td>2005</td>\n",
       "      <td>0</td>\n",
       "    </tr>\n",
       "  </tbody>\n",
       "</table>\n",
       "</div>"
      ],
      "text/plain": [
       "   runs_scored  balls_faced  strike_rate  fours  sixes  opposition  \\\n",
       "0            0            1         0.00      0      0  Bangladesh   \n",
       "1           12           11       109.09      2      0  Bangladesh   \n",
       "2            7            2       350.00      0      1  Bangladesh   \n",
       "3            3            7        42.85      0      0    Pakistan   \n",
       "4          148          123       120.32     15      4    Pakistan   \n",
       "\n",
       "          ground       date  year  not_out  \n",
       "0     Chattogram 2004-12-23  2004        0  \n",
       "1          Dhaka 2004-12-26  2004        0  \n",
       "2          Dhaka 2004-12-27  2004        1  \n",
       "3          Kochi 2005-04-02  2005        0  \n",
       "4  Visakhapatnam 2005-04-05  2005        0  "
      ]
     },
     "execution_count": 94,
     "metadata": {},
     "output_type": "execute_result"
    }
   ],
   "source": [
    "data_new.head()"
   ]
  },
  {
   "cell_type": "code",
   "execution_count": null,
   "metadata": {},
   "outputs": [],
   "source": []
  },
  {
   "cell_type": "code",
   "execution_count": null,
   "metadata": {},
   "outputs": [],
   "source": []
  },
  {
   "cell_type": "markdown",
   "metadata": {},
   "source": [
    "# Career Statistics"
   ]
  },
  {
   "cell_type": "markdown",
   "metadata": {},
   "source": [
    "###### We will have MS Dhoni's Carreer Statistics in ODI carreer"
   ]
  },
  {
   "cell_type": "code",
   "execution_count": 95,
   "metadata": {},
   "outputs": [
    {
     "name": "stdout",
     "output_type": "stream",
     "text": [
      "First match :  December ,23, 2004\n",
      "opposition in first match : Bangladesh\n",
      "Last match : July ,09 ,2019\n",
      "opposition in last match : New Zealand\n",
      "number of matches played : 350\n",
      "number of innings played : 297\n",
      "Not outs : 84\n",
      "outs : 213\n",
      "Total runs scored in career : 10773\n",
      "Total balls faced : 12303\n",
      "Career strike rate: 87.56\n",
      "Career Average: 50.58\n",
      "Date of highest scored : 2005-10-31T00:00:00.000000000\n",
      "Highest score : 183*\n",
      "Number of 100's : 10\n",
      "Number of 50's : 73\n",
      "Number of 4's : 826\n",
      "Number of 6's : 229\n"
     ]
    }
   ],
   "source": [
    "first_match_date=data['date'].dt.date.min().strftime('%B ,%d, %Y') \n",
    "print(\"First match : \",first_match_date)\n",
    "\n",
    "first_match_opp = data_new.loc[data_new[\"date\"]==first_match_date,'opposition'].values[0]\n",
    "print(\"opposition in first match :\",first_match_opp)\n",
    "\n",
    "last_match_date = data[\"date\"].dt.date.max().strftime('%B ,%d ,%Y')\n",
    "print(\"Last match :\",last_match_date)\n",
    "\n",
    "last_match_opp = data_new.loc[data_new[\"date\"]==last_match_date,'opposition'].values[0]\n",
    "print(\"opposition in last match :\",last_match_opp)\n",
    "\n",
    "\n",
    "numer_of_matches = data.shape[0]\n",
    "print(\"number of matches played :\",numer_of_matches)\n",
    "\n",
    "number_of_inngs = data_new.shape[0]\n",
    "print(\"number of innings played :\",number_of_inngs)\n",
    "\n",
    "not_outs = data_new[\"not_out\"].sum()\n",
    "print(\"Not outs :\",not_outs)\n",
    "\n",
    "outs =data_new[\"not_out\"].count()-data_new[\"not_out\"].sum()\n",
    "print(\"outs :\",outs)\n",
    "\n",
    "runs_scored = data_new[\"runs_scored\"].sum()\n",
    "print(\"Total runs scored in career :\",runs_scored)\n",
    "\n",
    "balls_faced = data_new[\"balls_faced\"].sum()\n",
    "print(\"Total balls faced :\",balls_faced)\n",
    "\n",
    "car_stike_rate = (runs_scored/balls_faced) * 100\n",
    "print('Career strike rate: {:.2f}'.format(car_stike_rate))\n",
    "\n",
    "car_avg = (runs_scored / (number_of_inngs - not_outs))\n",
    "print('Career Average: {:.2f}'.format(car_avg))\n",
    "\n",
    "Highest_score_date = data_new.loc[data_new.runs_scored == data_new.runs_scored.max(), 'date'].values[0]\n",
    "print(\"Date of highest scored :\",Highest_score_date)\n",
    "\n",
    "highest_score = data.loc[data.date == Highest_score_date,'score'].values[0]\n",
    "print(\"Highest score :\",highest_score)\n",
    "\n",
    "hundreds = data_new.loc[data_new['runs_scored'] >= 100].shape[0]\n",
    "print(\"Number of 100's :\",hundreds)\n",
    "\n",
    "fifties = data_new.loc[(data_new['runs_scored'] >=50) & (data_new['runs_scored']<100)].shape[0]\n",
    "print(\"Number of 50's :\",fifties)\n",
    "\n",
    "fours = data_new[\"fours\"].sum()\n",
    "print(\"Number of 4's :\",fours)\n",
    "\n",
    "sixes = data_new['sixes'].sum()\n",
    "print(\"Number of 6's :\",sixes)\n"
   ]
  },
  {
   "cell_type": "markdown",
   "metadata": {},
   "source": [
    "This gives us glimpse of MS Dhoni's Overall career. He started playing in Dec 2004 against Bangladesh and last played ODI in\n",
    "2019 against New Zealand. IN career spanning over 15 years,He has scored 10 hundreds and 73 fifties. He has scored over 10,000 runs\n",
    "in his career at an average of 50.6 and a strike rate of 87.6.Highest score is 183*.\n"
   ]
  },
  {
   "cell_type": "markdown",
   "metadata": {},
   "source": [
    "# Analysis"
   ]
  },
  {
   "cell_type": "markdown",
   "metadata": {},
   "source": [
    "FIrstly we will look into how many matches he played agianst different oppositions"
   ]
  },
  {
   "cell_type": "code",
   "execution_count": 96,
   "metadata": {},
   "outputs": [
    {
     "data": {
      "text/plain": [
       "<AxesSubplot:title={'center':'Number of matches played agianst different teams'}>"
      ]
     },
     "execution_count": 96,
     "metadata": {},
     "output_type": "execute_result"
    },
    {
     "data": {
      "image/png": "[encoded data removed]",
      "text/plain": [
       "<Figure size 720x360 with 1 Axes>"
      ]
     },
     "metadata": {
      "needs_background": "light"
     },
     "output_type": "display_data"
    }
   ],
   "source": [
    "data['opposition'].value_counts().plot(kind=\"bar\",title=\"Number of matches played agianst different teams\",figsize=(10,5))"
   ]
  },
  {
   "cell_type": "markdown",
   "metadata": {},
   "source": [
    "we can see that he has played the majority of matches against Sri Lanka,Australia,England,west indies, South africa,pakistan"
   ]
  },
  {
   "cell_type": "code",
   "execution_count": 97,
   "metadata": {},
   "outputs": [
    {
     "data": {
      "image/png": "[encoded data removed]",
      "text/plain": [
       "<Figure size 720x360 with 1 Axes>"
      ]
     },
     "metadata": {
      "needs_background": "light"
     },
     "output_type": "display_data"
    }
   ],
   "source": [
    "runs_scored_by_opposition=data_new.groupby(\"opposition\")['runs_scored'].sum()\n",
    "runs_scored_by_opposition = runs_scored_by_opposition.sort_values()\n",
    "runs_scored_by_opposition.plot(kind=\"bar\",title=\"Runs scored against different oppositions\",figsize=(10,5))\n",
    "plt.xlabel(None);"
   ]
  },
  {
   "cell_type": "markdown",
   "metadata": {},
   "source": [
    "We can see that he has scored most runs against Sri Lanka followed by Australia,England,Pakistan and he also played lot matches against these teams so it makes sense"
   ]
  },
  {
   "cell_type": "code",
   "execution_count": 98,
   "metadata": {},
   "outputs": [],
   "source": [
    "innings_by_opposition = pd.DataFrame(data_new.groupby(\"opposition\")['date'].count())"
   ]
  },
  {
   "cell_type": "code",
   "execution_count": 99,
   "metadata": {},
   "outputs": [],
   "source": [
    "not_out_by_opposition = pd.DataFrame(data_new.groupby(\"opposition\")['not_out'].sum())"
   ]
  },
  {
   "cell_type": "code",
   "execution_count": 100,
   "metadata": {},
   "outputs": [],
   "source": [
    "runs_for_innings = pd.concat([runs_scored_by_opposition,innings_by_opposition],axis=1)"
   ]
  },
  {
   "cell_type": "code",
   "execution_count": 101,
   "metadata": {},
   "outputs": [],
   "source": [
    "avg_by_opposition= runs_for_innings.merge(not_out_by_opposition,left_index=True,right_index=True)"
   ]
  },
  {
   "cell_type": "code",
   "execution_count": 102,
   "metadata": {},
   "outputs": [],
   "source": [
    "avg_by_opposition.rename(columns={'date' : 'innings'},inplace=True)"
   ]
  },
  {
   "cell_type": "code",
   "execution_count": 103,
   "metadata": {},
   "outputs": [],
   "source": [
    "avg_by_opposition['out_count'] = avg_by_opposition['innings']-avg_by_opposition['not_out']  ##In cricket, a player's batting average is the total number of runs they have scored divided by the number of times they have been out"
   ]
  },
  {
   "cell_type": "code",
   "execution_count": 104,
   "metadata": {},
   "outputs": [],
   "source": [
    "avg_by_opposition['average'] = avg_by_opposition['runs_scored']/avg_by_opposition['out_count']\n",
    "avg_by_opposition.replace(np.inf,np.nan ,inplace=True)"
   ]
  },
  {
   "cell_type": "code",
   "execution_count": 105,
   "metadata": {},
   "outputs": [],
   "source": [
    "major_nations = ['Australia', 'England', 'New Zealand', 'Pakistan', 'South Africa', 'Sri Lanka', 'West Indies']"
   ]
  },
  {
   "cell_type": "code",
   "execution_count": 106,
   "metadata": {},
   "outputs": [
    {
     "data": {
      "text/html": [
       "<div>\n",
       "<style scoped>\n",
       "    .dataframe tbody tr th:only-of-type {\n",
       "        vertical-align: middle;\n",
       "    }\n",
       "\n",
       "    .dataframe tbody tr th {\n",
       "        vertical-align: top;\n",
       "    }\n",
       "\n",
       "    .dataframe thead th {\n",
       "        text-align: right;\n",
       "    }\n",
       "</style>\n",
       "<table border=\"1\" class=\"dataframe\">\n",
       "  <thead>\n",
       "    <tr style=\"text-align: right;\">\n",
       "      <th></th>\n",
       "      <th>runs_scored</th>\n",
       "      <th>innings</th>\n",
       "      <th>not_out</th>\n",
       "      <th>out_count</th>\n",
       "      <th>average</th>\n",
       "    </tr>\n",
       "  </thead>\n",
       "  <tbody>\n",
       "    <tr>\n",
       "      <th>Netherlands</th>\n",
       "      <td>19</td>\n",
       "      <td>1</td>\n",
       "      <td>1</td>\n",
       "      <td>0</td>\n",
       "      <td>NaN</td>\n",
       "    </tr>\n",
       "    <tr>\n",
       "      <th>Bermuda</th>\n",
       "      <td>29</td>\n",
       "      <td>1</td>\n",
       "      <td>0</td>\n",
       "      <td>1</td>\n",
       "      <td>29.000000</td>\n",
       "    </tr>\n",
       "    <tr>\n",
       "      <th>Ireland</th>\n",
       "      <td>34</td>\n",
       "      <td>1</td>\n",
       "      <td>0</td>\n",
       "      <td>1</td>\n",
       "      <td>34.000000</td>\n",
       "    </tr>\n",
       "    <tr>\n",
       "      <th>Afghanistan</th>\n",
       "      <td>36</td>\n",
       "      <td>2</td>\n",
       "      <td>0</td>\n",
       "      <td>2</td>\n",
       "      <td>18.000000</td>\n",
       "    </tr>\n",
       "    <tr>\n",
       "      <th>Hong Kong</th>\n",
       "      <td>109</td>\n",
       "      <td>2</td>\n",
       "      <td>1</td>\n",
       "      <td>1</td>\n",
       "      <td>109.000000</td>\n",
       "    </tr>\n",
       "    <tr>\n",
       "      <th>Africa XI</th>\n",
       "      <td>174</td>\n",
       "      <td>3</td>\n",
       "      <td>1</td>\n",
       "      <td>2</td>\n",
       "      <td>87.000000</td>\n",
       "    </tr>\n",
       "    <tr>\n",
       "      <th>Zimbabwe</th>\n",
       "      <td>208</td>\n",
       "      <td>3</td>\n",
       "      <td>2</td>\n",
       "      <td>1</td>\n",
       "      <td>208.000000</td>\n",
       "    </tr>\n",
       "    <tr>\n",
       "      <th>Bangladesh</th>\n",
       "      <td>569</td>\n",
       "      <td>17</td>\n",
       "      <td>5</td>\n",
       "      <td>12</td>\n",
       "      <td>47.416667</td>\n",
       "    </tr>\n",
       "    <tr>\n",
       "      <th>South Africa</th>\n",
       "      <td>830</td>\n",
       "      <td>32</td>\n",
       "      <td>6</td>\n",
       "      <td>26</td>\n",
       "      <td>31.923077</td>\n",
       "    </tr>\n",
       "    <tr>\n",
       "      <th>New Zealand</th>\n",
       "      <td>940</td>\n",
       "      <td>26</td>\n",
       "      <td>7</td>\n",
       "      <td>19</td>\n",
       "      <td>49.473684</td>\n",
       "    </tr>\n",
       "    <tr>\n",
       "      <th>West Indies</th>\n",
       "      <td>1005</td>\n",
       "      <td>33</td>\n",
       "      <td>15</td>\n",
       "      <td>18</td>\n",
       "      <td>55.833333</td>\n",
       "    </tr>\n",
       "    <tr>\n",
       "      <th>Pakistan</th>\n",
       "      <td>1231</td>\n",
       "      <td>31</td>\n",
       "      <td>8</td>\n",
       "      <td>23</td>\n",
       "      <td>53.521739</td>\n",
       "    </tr>\n",
       "    <tr>\n",
       "      <th>England</th>\n",
       "      <td>1546</td>\n",
       "      <td>44</td>\n",
       "      <td>11</td>\n",
       "      <td>33</td>\n",
       "      <td>46.848485</td>\n",
       "    </tr>\n",
       "    <tr>\n",
       "      <th>Australia</th>\n",
       "      <td>1660</td>\n",
       "      <td>48</td>\n",
       "      <td>11</td>\n",
       "      <td>37</td>\n",
       "      <td>44.864865</td>\n",
       "    </tr>\n",
       "    <tr>\n",
       "      <th>Sri Lanka</th>\n",
       "      <td>2383</td>\n",
       "      <td>53</td>\n",
       "      <td>16</td>\n",
       "      <td>37</td>\n",
       "      <td>64.405405</td>\n",
       "    </tr>\n",
       "  </tbody>\n",
       "</table>\n",
       "</div>"
      ],
      "text/plain": [
       "              runs_scored  innings  not_out  out_count     average\n",
       "Netherlands            19        1        1          0         NaN\n",
       "Bermuda                29        1        0          1   29.000000\n",
       "Ireland                34        1        0          1   34.000000\n",
       "Afghanistan            36        2        0          2   18.000000\n",
       "Hong Kong             109        2        1          1  109.000000\n",
       "Africa XI             174        3        1          2   87.000000\n",
       "Zimbabwe              208        3        2          1  208.000000\n",
       "Bangladesh            569       17        5         12   47.416667\n",
       "South Africa          830       32        6         26   31.923077\n",
       "New Zealand           940       26        7         19   49.473684\n",
       "West Indies          1005       33       15         18   55.833333\n",
       "Pakistan             1231       31        8         23   53.521739\n",
       "England              1546       44       11         33   46.848485\n",
       "Australia            1660       48       11         37   44.864865\n",
       "Sri Lanka            2383       53       16         37   64.405405"
      ]
     },
     "execution_count": 106,
     "metadata": {},
     "output_type": "execute_result"
    }
   ],
   "source": [
    "avg_by_opposition"
   ]
  },
  {
   "cell_type": "markdown",
   "metadata": {},
   "source": [
    "##### Now we have created a table of Ms Dhoni's batting avg. for each team and now we will compare it with career avg with some major teams"
   ]
  },
  {
   "cell_type": "code",
   "execution_count": 107,
   "metadata": {},
   "outputs": [
    {
     "data": {
      "image/png": "[encoded data removed]",
      "text/plain": [
       "<Figure size 720x360 with 1 Axes>"
      ]
     },
     "metadata": {
      "needs_background": "light"
     },
     "output_type": "display_data"
    }
   ],
   "source": [
    "plt.figure(figsize=(10,5))\n",
    "\n",
    "plt.plot(avg_by_opposition.loc[major_nations,'average'].values,marker = 'o')\n",
    "\n",
    "plt.plot([car_avg]*len(major_nations),'--')\n",
    "\n",
    "plt.title(\"Average against major teams\")\n",
    "\n",
    "plt.xticks(range(0,7),major_nations)\n",
    "\n",
    "plt.ylim(20,70)\n",
    "\n",
    "plt.legend(['Avg against opposition', \"Career average\"]);\n"
   ]
  },
  {
   "cell_type": "markdown",
   "metadata": {},
   "source": [
    "Now we can see that Dhoni has played a remarkable innings against major teams like Australia,England,New Zealand,Pakistan , Sri Lanka , and west Indies with a score of close to his career Avg. or slightly higher. The only team he has not played well is South Africa with a lowest batting avg. of around 30."
   ]
  },
  {
   "cell_type": "markdown",
   "metadata": {},
   "source": [
    "###### Now we will see year on year statistics.lets look at how many matches he has played each year after his debut"
   ]
  },
  {
   "cell_type": "code",
   "execution_count": 108,
   "metadata": {},
   "outputs": [],
   "source": [
    "innings_per_year = pd.DataFrame(data_new['year'].value_counts().sort_index())"
   ]
  },
  {
   "cell_type": "code",
   "execution_count": 109,
   "metadata": {},
   "outputs": [
    {
     "data": {
      "image/png": "[encoded data removed]",
      "text/plain": [
       "<Figure size 720x360 with 1 Axes>"
      ]
     },
     "metadata": {
      "needs_background": "light"
     },
     "output_type": "display_data"
    }
   ],
   "source": [
    "innings_per_year.plot(kind=\"bar\",title=\"Matches played by year\",figsize=(10,5));"
   ]
  },
  {
   "cell_type": "markdown",
   "metadata": {},
   "source": [
    "By this graph we can see that in the year 2010,2012,2014,2016 Dhoni has played very few matches for india. inshort we can say that after 2005-2009 the average number of matches he played reduced slightly"
   ]
  },
  {
   "cell_type": "markdown",
   "metadata": {},
   "source": [
    "###### To giving some more clarity to above statistics we will now look at how many runs he has scored every year "
   ]
  },
  {
   "cell_type": "code",
   "execution_count": 110,
   "metadata": {},
   "outputs": [],
   "source": [
    "runs_per_year = pd.DataFrame(data_new.groupby('year')['runs_scored'].sum())"
   ]
  },
  {
   "cell_type": "code",
   "execution_count": 111,
   "metadata": {},
   "outputs": [
    {
     "data": {
      "image/png": "[encoded data removed]",
      "text/plain": [
       "<Figure size 720x360 with 1 Axes>"
      ]
     },
     "metadata": {
      "needs_background": "light"
     },
     "output_type": "display_data"
    }
   ],
   "source": [
    "runs_per_year.plot(kind=\"line\",marker=\"o\",title=\"Runs Scored per Year\",figsize=(10,5))\n",
    "years = data_new['year'].unique().tolist()\n",
    "plt.xticks(years)\n",
    "plt.xlabel(None);"
   ]
  },
  {
   "cell_type": "markdown",
   "metadata": {},
   "source": [
    "BY this we can say that Dhoni has scored more runs in 2009 followed by 2007,2008, because of this he has won the best ODI batsman of the year in 2008.Thje number of runs started reducing post-2010 because number of matches played aslos started reducing "
   ]
  },
  {
   "cell_type": "markdown",
   "metadata": {},
   "source": [
    "###### Finally lets look at his career bating average progression by innings"
   ]
  },
  {
   "cell_type": "code",
   "execution_count": 122,
   "metadata": {},
   "outputs": [],
   "source": [
    "data_new.reset_index(drop=True,inplace=True)"
   ]
  },
  {
   "cell_type": "code",
   "execution_count": 123,
   "metadata": {},
   "outputs": [],
   "source": [
    "career_average=pd.DataFrame()\n",
    "career_average[\"run_scored_in_career\"] = data_new[\"runs_scored\"].cumsum()\n",
    "career_average[\"innings\"] = data_new.index.tolist()\n",
    "career_average['innings'] = career_average['innings'].apply(lambda x : x+1)\n",
    "career_average[\"not_out_in_career\"] = data_new[\"not_out\"].cumsum()\n",
    "career_average[\"outs_in_career\"] = career_average[\"innings\"] - career_average[\"not_out_in_career\"]\n",
    "career_average[\"average\"] = career_average[\"run_scored_in_career\"] / career_average[\"outs_in_career\"]"
   ]
  },
  {
   "cell_type": "code",
   "execution_count": null,
   "metadata": {},
   "outputs": [],
   "source": []
  },
  {
   "cell_type": "code",
   "execution_count": 125,
   "metadata": {},
   "outputs": [
    {
     "data": {
      "image/png": "[encoded data removed]",
      "text/plain": [
       "<Figure size 720x360 with 1 Axes>"
      ]
     },
     "metadata": {
      "needs_background": "light"
     },
     "output_type": "display_data"
    }
   ],
   "source": [
    "plt.figure(figsize=(10,5))\n",
    "plt.plot(career_average[\"average\"])\n",
    "plt.plot([car_avg] * career_average.shape[0],\"--\")\n",
    "plt.title(\"Career AVg. progression by innings\")\n",
    "plt.xlabel(\"number of innings\")\n",
    "plt.legend([\"Avg progression\",\"Career average\"]);\n",
    "\n"
   ]
  },
  {
   "cell_type": "code",
   "execution_count": null,
   "metadata": {},
   "outputs": [],
   "source": []
  }
 ],
 "metadata": {
  "kernelspec": {
   "display_name": "Python 3",
   "language": "python",
   "name": "python3"
  },
  "language_info": {
   "codemirror_mode": {
    "name": "ipython",
    "version": 3
   },
   "file_extension": ".py",
   "mimetype": "text/x-python",
   "name": "python",
   "nbconvert_exporter": "python",
   "pygments_lexer": "ipython3",
   "version": "3.8.5"
  }
 },
 "nbformat": 4,
 "nbformat_minor": 4
}
